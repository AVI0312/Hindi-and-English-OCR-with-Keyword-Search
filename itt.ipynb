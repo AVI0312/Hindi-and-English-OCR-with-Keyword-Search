{
 "cells": [
  {
   "cell_type": "code",
   "execution_count": 16,
   "id": "82ed191c",
   "metadata": {},
   "outputs": [
    {
     "name": "stdout",
     "output_type": "stream",
     "text": [
      "Requirement already satisfied: torch in c:\\users\\arpit\\anaconda3\\lib\\site-packages (2.4.1)\n",
      "Requirement already satisfied: torchvision in c:\\users\\arpit\\anaconda3\\lib\\site-packages (0.19.1)\n",
      "Requirement already satisfied: transformers in c:\\users\\arpit\\anaconda3\\lib\\site-packages (4.45.1)\n",
      "Requirement already satisfied: gradio in c:\\users\\arpit\\anaconda3\\lib\\site-packages (4.44.0)\n",
      "Requirement already satisfied: numpy in c:\\users\\arpit\\anaconda3\\lib\\site-packages (1.21.5)\n",
      "Requirement already satisfied: Pillow in c:\\users\\arpit\\anaconda3\\lib\\site-packages (9.0.1)\n",
      "Requirement already satisfied: pytesseract in c:\\users\\arpit\\anaconda3\\lib\\site-packages (0.3.13)\n",
      "Requirement already satisfied: sympy in c:\\users\\arpit\\anaconda3\\lib\\site-packages (from torch) (1.10.1)\n",
      "Requirement already satisfied: filelock in c:\\users\\arpit\\anaconda3\\lib\\site-packages (from torch) (3.6.0)\n",
      "Requirement already satisfied: jinja2 in c:\\users\\arpit\\anaconda3\\lib\\site-packages (from torch) (2.11.3)\n",
      "Requirement already satisfied: fsspec in c:\\users\\arpit\\anaconda3\\lib\\site-packages (from torch) (2024.9.0)\n",
      "Requirement already satisfied: typing-extensions>=4.8.0 in c:\\users\\arpit\\anaconda3\\lib\\site-packages (from torch) (4.12.2)\n",
      "Requirement already satisfied: networkx in c:\\users\\arpit\\anaconda3\\lib\\site-packages (from torch) (2.7.1)\n",
      "Requirement already satisfied: pyyaml>=5.1 in c:\\users\\arpit\\anaconda3\\lib\\site-packages (from transformers) (6.0)\n",
      "Requirement already satisfied: packaging>=20.0 in c:\\users\\arpit\\anaconda3\\lib\\site-packages (from transformers) (21.3)\n",
      "Requirement already satisfied: huggingface-hub<1.0,>=0.23.2 in c:\\users\\arpit\\anaconda3\\lib\\site-packages (from transformers) (0.25.1)\n",
      "Requirement already satisfied: regex!=2019.12.17 in c:\\users\\arpit\\anaconda3\\lib\\site-packages (from transformers) (2022.3.15)\n",
      "Requirement already satisfied: safetensors>=0.4.1 in c:\\users\\arpit\\anaconda3\\lib\\site-packages (from transformers) (0.4.5)\n",
      "Requirement already satisfied: tokenizers<0.21,>=0.20 in c:\\users\\arpit\\anaconda3\\lib\\site-packages (from transformers) (0.20.0)\n",
      "Requirement already satisfied: requests in c:\\users\\arpit\\anaconda3\\lib\\site-packages (from transformers) (2.32.3)\n",
      "Requirement already satisfied: tqdm>=4.27 in c:\\users\\arpit\\anaconda3\\lib\\site-packages (from transformers) (4.64.0)\n",
      "Requirement already satisfied: pydantic>=2.0 in c:\\users\\arpit\\anaconda3\\lib\\site-packages (from gradio) (2.9.2)\n",
      "Requirement already satisfied: httpx>=0.24.1 in c:\\users\\arpit\\anaconda3\\lib\\site-packages (from gradio) (0.27.2)\n",
      "Requirement already satisfied: typer<1.0,>=0.12 in c:\\users\\arpit\\anaconda3\\lib\\site-packages (from gradio) (0.12.5)\n",
      "Requirement already satisfied: uvicorn>=0.14.0 in c:\\users\\arpit\\anaconda3\\lib\\site-packages (from gradio) (0.31.0)\n",
      "Requirement already satisfied: orjson~=3.0 in c:\\users\\arpit\\anaconda3\\lib\\site-packages (from gradio) (3.10.7)\n",
      "Requirement already satisfied: fastapi<1.0 in c:\\users\\arpit\\anaconda3\\lib\\site-packages (from gradio) (0.115.0)\n",
      "Requirement already satisfied: pandas<3.0,>=1.0 in c:\\users\\arpit\\anaconda3\\lib\\site-packages (from gradio) (1.4.2)\n",
      "Requirement already satisfied: pydub in c:\\users\\arpit\\anaconda3\\lib\\site-packages (from gradio) (0.25.1)\n",
      "Requirement already satisfied: aiofiles<24.0,>=22.0 in c:\\users\\arpit\\anaconda3\\lib\\site-packages (from gradio) (23.2.1)\n",
      "Requirement already satisfied: importlib-resources<7.0,>=1.3 in c:\\users\\arpit\\anaconda3\\lib\\site-packages (from gradio) (6.4.5)\n",
      "Requirement already satisfied: ruff>=0.2.2 in c:\\users\\arpit\\anaconda3\\lib\\site-packages (from gradio) (0.6.8)\n",
      "Requirement already satisfied: tomlkit==0.12.0 in c:\\users\\arpit\\anaconda3\\lib\\site-packages (from gradio) (0.12.0)\n",
      "Requirement already satisfied: gradio-client==1.3.0 in c:\\users\\arpit\\anaconda3\\lib\\site-packages (from gradio) (1.3.0)\n",
      "Requirement already satisfied: urllib3~=2.0 in c:\\users\\arpit\\anaconda3\\lib\\site-packages (from gradio) (2.2.3)\n",
      "Requirement already satisfied: python-multipart>=0.0.9 in c:\\users\\arpit\\anaconda3\\lib\\site-packages (from gradio) (0.0.10)\n",
      "Requirement already satisfied: anyio<5.0,>=3.0 in c:\\users\\arpit\\anaconda3\\lib\\site-packages (from gradio) (3.5.0)\n",
      "Requirement already satisfied: ffmpy in c:\\users\\arpit\\anaconda3\\lib\\site-packages (from gradio) (0.4.0)\n",
      "Requirement already satisfied: markupsafe~=2.0 in c:\\users\\arpit\\anaconda3\\lib\\site-packages (from gradio) (2.0.1)\n",
      "Requirement already satisfied: matplotlib~=3.0 in c:\\users\\arpit\\anaconda3\\lib\\site-packages (from gradio) (3.5.1)\n",
      "Requirement already satisfied: semantic-version~=2.0 in c:\\users\\arpit\\anaconda3\\lib\\site-packages (from gradio) (2.10.0)\n",
      "Requirement already satisfied: websockets<13.0,>=10.0 in c:\\users\\arpit\\anaconda3\\lib\\site-packages (from gradio-client==1.3.0->gradio) (12.0)\n",
      "Requirement already satisfied: sniffio>=1.1 in c:\\users\\arpit\\anaconda3\\lib\\site-packages (from anyio<5.0,>=3.0->gradio) (1.2.0)\n",
      "Requirement already satisfied: idna>=2.8 in c:\\users\\arpit\\anaconda3\\lib\\site-packages (from anyio<5.0,>=3.0->gradio) (3.3)\n",
      "Requirement already satisfied: starlette<0.39.0,>=0.37.2 in c:\\users\\arpit\\anaconda3\\lib\\site-packages (from fastapi<1.0->gradio) (0.38.6)\n",
      "Requirement already satisfied: httpcore==1.* in c:\\users\\arpit\\anaconda3\\lib\\site-packages (from httpx>=0.24.1->gradio) (1.0.5)\n",
      "Requirement already satisfied: certifi in c:\\users\\arpit\\anaconda3\\lib\\site-packages (from httpx>=0.24.1->gradio) (2021.10.8)\n",
      "Requirement already satisfied: h11<0.15,>=0.13 in c:\\users\\arpit\\anaconda3\\lib\\site-packages (from httpcore==1.*->httpx>=0.24.1->gradio) (0.14.0)\n",
      "Requirement already satisfied: zipp>=3.1.0 in c:\\users\\arpit\\anaconda3\\lib\\site-packages (from importlib-resources<7.0,>=1.3->gradio) (3.7.0)\n",
      "Requirement already satisfied: python-dateutil>=2.7 in c:\\users\\arpit\\anaconda3\\lib\\site-packages (from matplotlib~=3.0->gradio) (2.8.2)\n",
      "Requirement already satisfied: fonttools>=4.22.0 in c:\\users\\arpit\\anaconda3\\lib\\site-packages (from matplotlib~=3.0->gradio) (4.25.0)\n",
      "Requirement already satisfied: kiwisolver>=1.0.1 in c:\\users\\arpit\\anaconda3\\lib\\site-packages (from matplotlib~=3.0->gradio) (1.3.2)\n",
      "Requirement already satisfied: cycler>=0.10 in c:\\users\\arpit\\anaconda3\\lib\\site-packages (from matplotlib~=3.0->gradio) (0.11.0)\n",
      "Requirement already satisfied: pyparsing>=2.2.1 in c:\\users\\arpit\\anaconda3\\lib\\site-packages (from matplotlib~=3.0->gradio) (3.0.4)\n",
      "Requirement already satisfied: pytz>=2020.1 in c:\\users\\arpit\\anaconda3\\lib\\site-packages (from pandas<3.0,>=1.0->gradio) (2021.3)\n",
      "Requirement already satisfied: pydantic-core==2.23.4 in c:\\users\\arpit\\anaconda3\\lib\\site-packages (from pydantic>=2.0->gradio) (2.23.4)\n",
      "Requirement already satisfied: annotated-types>=0.6.0 in c:\\users\\arpit\\anaconda3\\lib\\site-packages (from pydantic>=2.0->gradio) (0.7.0)\n",
      "Requirement already satisfied: six>=1.5 in c:\\users\\arpit\\anaconda3\\lib\\site-packages (from python-dateutil>=2.7->matplotlib~=3.0->gradio) (1.16.0)\n",
      "Requirement already satisfied: colorama in c:\\users\\arpit\\anaconda3\\lib\\site-packages (from tqdm>=4.27->transformers) (0.4.4)\n",
      "Requirement already satisfied: rich>=10.11.0 in c:\\users\\arpit\\anaconda3\\lib\\site-packages (from typer<1.0,>=0.12->gradio) (13.8.1)\n",
      "Requirement already satisfied: click>=8.0.0 in c:\\users\\arpit\\anaconda3\\lib\\site-packages (from typer<1.0,>=0.12->gradio) (8.0.4)\n",
      "Requirement already satisfied: shellingham>=1.3.0 in c:\\users\\arpit\\anaconda3\\lib\\site-packages (from typer<1.0,>=0.12->gradio) (1.5.4)\n",
      "Requirement already satisfied: markdown-it-py>=2.2.0 in c:\\users\\arpit\\anaconda3\\lib\\site-packages (from rich>=10.11.0->typer<1.0,>=0.12->gradio) (3.0.0)\n",
      "Requirement already satisfied: pygments<3.0.0,>=2.13.0 in c:\\users\\arpit\\anaconda3\\lib\\site-packages (from rich>=10.11.0->typer<1.0,>=0.12->gradio) (2.18.0)\n",
      "Requirement already satisfied: mdurl~=0.1 in c:\\users\\arpit\\anaconda3\\lib\\site-packages (from markdown-it-py>=2.2.0->rich>=10.11.0->typer<1.0,>=0.12->gradio) (0.1.2)\n",
      "Requirement already satisfied: charset-normalizer<4,>=2 in c:\\users\\arpit\\anaconda3\\lib\\site-packages (from requests->transformers) (2.0.4)\n",
      "Requirement already satisfied: mpmath>=0.19 in c:\\users\\arpit\\anaconda3\\lib\\site-packages (from sympy->torch) (1.2.1)\n"
     ]
    }
   ],
   "source": [
    "# Install necessary libraries\n",
    "!pip install torch torchvision transformers gradio numpy Pillow pytesseract\n"
   ]
  },
  {
   "cell_type": "code",
   "execution_count": 17,
   "id": "beded7de",
   "metadata": {},
   "outputs": [],
   "source": [
    "import gradio as gr\n",
    "from PIL import Image\n",
    "import pytesseract\n",
    "import re\n",
    "import json\n",
    "\n",
    "# Initialize the OCR model (Using Tesseract in this example for Hindi + English)\n",
    "def extract_text_from_image(image):\n",
    "    text = pytesseract.image_to_string(image, lang='hin+eng')\n",
    "    return text\n"
   ]
  },
  {
   "cell_type": "code",
   "execution_count": 18,
   "id": "dc03f763",
   "metadata": {},
   "outputs": [],
   "source": [
    "def search_text(extracted_text, keyword):\n",
    "    if not keyword.strip():\n",
    "        return \"Please enter a keyword to search.\"\n",
    "\n",
    "    if keyword.lower() not in extracted_text.lower():\n",
    "        return f\"The searched text '{keyword}' was not found.\"\n",
    "\n",
    "    # If the keyword is found, highlight it in red\n",
    "    pattern = re.compile(re.escape(keyword), re.IGNORECASE)\n",
    "    highlighted_text = pattern.sub(f'<span style=\"background-color: red; color: white;\">{keyword}</span>', extracted_text)\n",
    "    return highlighted_text\n"
   ]
  },
  {
   "cell_type": "code",
   "execution_count": 19,
   "id": "daf0e9c9",
   "metadata": {},
   "outputs": [
    {
     "name": "stdout",
     "output_type": "stream",
     "text": [
      "Running on local URL:  http://127.0.0.1:7868\n",
      "\n",
      "Could not create share link. Please check your internet connection or our status page: https://status.gradio.app.\n"
     ]
    },
    {
     "data": {
      "text/html": [
       "<div><iframe src=\"http://127.0.0.1:7868/\" width=\"100%\" height=\"500\" allow=\"autoplay; camera; microphone; clipboard-read; clipboard-write;\" frameborder=\"0\" allowfullscreen></iframe></div>"
      ],
      "text/plain": [
       "<IPython.core.display.HTML object>"
      ]
     },
     "metadata": {},
     "output_type": "display_data"
    },
    {
     "data": {
      "text/plain": []
     },
     "execution_count": 19,
     "metadata": {},
     "output_type": "execute_result"
    }
   ],
   "source": [
    "def process_image(image, keyword):\n",
    "    # Extract text\n",
    "    extracted_text = extract_text_from_image(image)\n",
    "    \n",
    "    # Search for keyword\n",
    "    search_result = search_text(extracted_text, keyword)\n",
    "    \n",
    "    # Prepare the JSON output\n",
    "    json_output = json.dumps({\"EXTRACTED_TEXT\": extracted_text}, ensure_ascii=False, indent=4)\n",
    "    \n",
    "    return json_output, search_result\n",
    "\n",
    "# Gradio Interface\n",
    "interface = gr.Interface(\n",
    "    fn=process_image,\n",
    "    inputs=[gr.Image(type=\"pil\"), gr.Textbox(label=\"Enter Keyword\")],\n",
    "    outputs=[gr.JSON(label=\"Extracted Text (JSON)\"), gr.HTML(label=\"Highlighted Search Result\")],\n",
    "    title=\"OCR and Keyword Search Application\",\n",
    "    description=\"Upload an image with text in Hindi and English. Extract text and search keywords in the extracted text.\"\n",
    ")\n",
    "\n",
    "# Launch Gradio App\n",
    "interface.launch(share=True)"
   ]
  },
  {
   "cell_type": "code",
   "execution_count": null,
   "id": "2b5176b6",
   "metadata": {},
   "outputs": [],
   "source": []
  }
 ],
 "metadata": {
  "kernelspec": {
   "display_name": "Python 3 (ipykernel)",
   "language": "python",
   "name": "python3"
  },
  "language_info": {
   "codemirror_mode": {
    "name": "ipython",
    "version": 3
   },
   "file_extension": ".py",
   "mimetype": "text/x-python",
   "name": "python",
   "nbconvert_exporter": "python",
   "pygments_lexer": "ipython3",
   "version": "3.9.12"
  }
 },
 "nbformat": 4,
 "nbformat_minor": 5
}
